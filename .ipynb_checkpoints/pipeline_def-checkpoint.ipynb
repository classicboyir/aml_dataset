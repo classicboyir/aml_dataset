{
 "cells": [
  {
   "cell_type": "code",
   "execution_count": 515,
   "metadata": {},
   "outputs": [
    {
     "name": "stdout",
     "output_type": "stream",
     "text": [
      "SDK version: 1.40.0\n"
     ]
    }
   ],
   "source": [
    "import os\n",
    "import azureml.core\n",
    "from azureml.core.runconfig import JarLibrary\n",
    "from azureml.core.compute import ComputeTarget, DatabricksCompute\n",
    "from azureml.exceptions import ComputeTargetException\n",
    "from azureml.core import Workspace, Environment, Experiment, Datastore, Dataset, ScriptRunConfig\n",
    "from azureml.pipeline.core import Pipeline, PipelineData, TrainingOutput\n",
    "from azureml.pipeline.steps import DatabricksStep, PythonScriptStep\n",
    "from azureml.core.datastore import Datastore\n",
    "from azureml.data.data_reference import DataReference\n",
    "# from azureml.pipeline.steps import HyperDriveStep, HyperDriveStepRun, PythonScriptStep\n",
    "\n",
    "# Check core SDK version number\n",
    "print(\"SDK version:\", azureml.core.VERSION)"
   ]
  },
  {
   "cell_type": "code",
   "execution_count": 516,
   "metadata": {
    "jupyter": {
     "outputs_hidden": false,
     "source_hidden": false
    },
    "nteract": {
     "transient": {
      "deleting": false
     }
    }
   },
   "outputs": [
    {
     "data": {
      "text/plain": [
       "'/tmp/asdasdasdasd/'"
      ]
     },
     "execution_count": 516,
     "metadata": {},
     "output_type": "execute_result"
    }
   ],
   "source": [
    "\n",
    "\"/tmp/asdasdasdasd/\""
   ]
  },
  {
   "cell_type": "code",
   "execution_count": 517,
   "metadata": {
    "jupyter": {
     "outputs_hidden": false,
     "source_hidden": false
    },
    "nteract": {
     "transient": {
      "deleting": false
     }
    }
   },
   "outputs": [
    {
     "name": "stdout",
     "output_type": "stream",
     "text": [
      "['titanic_test.parquet', 'azureml', 'pipeline_inputdataset', 'temp_delta', 'titanic_dataset', 'titanic_feature', 'tweet.py']\n"
     ]
    }
   ],
   "source": [
    "import os\n",
    "# List the files in the mounted path\n",
    "print(os.listdir(\"/home/azureuser/cloudfiles/data/datastore/delta_test\"))\n",
    "\n",
    "# Get the path of your file and load the data using your preferred libraries\n",
    "# import pandas as pd\n",
    "# df = pd.read_csv(\"/home/azureuser/cloudfiles/data/datastore/delta_test/{path_to_file}/{your_file}\")\n",
    "# print(df.head(5))"
   ]
  },
  {
   "cell_type": "code",
   "execution_count": 518,
   "metadata": {
    "jupyter": {
     "outputs_hidden": false,
     "source_hidden": false
    },
    "nteract": {
     "transient": {
      "deleting": false
     }
    }
   },
   "outputs": [],
   "source": [
    "import pandas as pd\n",
    "p_parquet = pd.read_parquet(\"/home/azureuser/cloudfiles/data/datastore/delta_test/titanic_test.parquet\")\n"
   ]
  },
  {
   "cell_type": "code",
   "execution_count": 519,
   "metadata": {
    "jupyter": {
     "outputs_hidden": false,
     "source_hidden": false
    },
    "nteract": {
     "transient": {
      "deleting": false
     }
    }
   },
   "outputs": [
    {
     "data": {
      "text/html": [
       "<div>\n",
       "<style scoped>\n",
       "    .dataframe tbody tr th:only-of-type {\n",
       "        vertical-align: middle;\n",
       "    }\n",
       "\n",
       "    .dataframe tbody tr th {\n",
       "        vertical-align: top;\n",
       "    }\n",
       "\n",
       "    .dataframe thead th {\n",
       "        text-align: right;\n",
       "    }\n",
       "</style>\n",
       "<table border=\"1\" class=\"dataframe\">\n",
       "  <thead>\n",
       "    <tr style=\"text-align: right;\">\n",
       "      <th></th>\n",
       "      <th>PassengerId</th>\n",
       "      <th>Survived</th>\n",
       "      <th>Pclass</th>\n",
       "      <th>Name</th>\n",
       "      <th>Sex</th>\n",
       "      <th>Age</th>\n",
       "      <th>SibSp</th>\n",
       "      <th>Parch</th>\n",
       "      <th>Ticket</th>\n",
       "      <th>Fare</th>\n",
       "      <th>Cabin</th>\n",
       "      <th>Embarked</th>\n",
       "    </tr>\n",
       "  </thead>\n",
       "  <tbody>\n",
       "    <tr>\n",
       "      <th>0</th>\n",
       "      <td>1</td>\n",
       "      <td>0</td>\n",
       "      <td>3</td>\n",
       "      <td>Braund, Mr. Owen Harris</td>\n",
       "      <td>male</td>\n",
       "      <td>22.000</td>\n",
       "      <td>1</td>\n",
       "      <td>0</td>\n",
       "      <td>A/5 21171</td>\n",
       "      <td>7.250</td>\n",
       "      <td>None</td>\n",
       "      <td>S</td>\n",
       "    </tr>\n",
       "    <tr>\n",
       "      <th>1</th>\n",
       "      <td>2</td>\n",
       "      <td>1</td>\n",
       "      <td>1</td>\n",
       "      <td>Cumings, Mrs. John Bradley (Florence Briggs Th...</td>\n",
       "      <td>female</td>\n",
       "      <td>38.000</td>\n",
       "      <td>1</td>\n",
       "      <td>0</td>\n",
       "      <td>PC 17599</td>\n",
       "      <td>71.283</td>\n",
       "      <td>C85</td>\n",
       "      <td>C</td>\n",
       "    </tr>\n",
       "    <tr>\n",
       "      <th>2</th>\n",
       "      <td>3</td>\n",
       "      <td>1</td>\n",
       "      <td>3</td>\n",
       "      <td>Heikkinen, Miss. Laina</td>\n",
       "      <td>female</td>\n",
       "      <td>26.000</td>\n",
       "      <td>0</td>\n",
       "      <td>0</td>\n",
       "      <td>STON/O2. 3101282</td>\n",
       "      <td>7.925</td>\n",
       "      <td>None</td>\n",
       "      <td>S</td>\n",
       "    </tr>\n",
       "    <tr>\n",
       "      <th>3</th>\n",
       "      <td>4</td>\n",
       "      <td>1</td>\n",
       "      <td>1</td>\n",
       "      <td>Futrelle, Mrs. Jacques Heath (Lily May Peel)</td>\n",
       "      <td>female</td>\n",
       "      <td>35.000</td>\n",
       "      <td>1</td>\n",
       "      <td>0</td>\n",
       "      <td>113803</td>\n",
       "      <td>53.100</td>\n",
       "      <td>C123</td>\n",
       "      <td>S</td>\n",
       "    </tr>\n",
       "    <tr>\n",
       "      <th>4</th>\n",
       "      <td>5</td>\n",
       "      <td>0</td>\n",
       "      <td>3</td>\n",
       "      <td>Allen, Mr. William Henry</td>\n",
       "      <td>male</td>\n",
       "      <td>35.000</td>\n",
       "      <td>0</td>\n",
       "      <td>0</td>\n",
       "      <td>373450</td>\n",
       "      <td>8.050</td>\n",
       "      <td>None</td>\n",
       "      <td>S</td>\n",
       "    </tr>\n",
       "  </tbody>\n",
       "</table>\n",
       "</div>"
      ],
      "text/plain": [
       "   PassengerId  Survived  Pclass                                               Name     Sex    Age  SibSp  Parch            Ticket   Fare Cabin Embarked\n",
       "0            1         0       3                            Braund, Mr. Owen Harris    male 22.000      1      0         A/5 21171  7.250  None        S\n",
       "1            2         1       1  Cumings, Mrs. John Bradley (Florence Briggs Th...  female 38.000      1      0          PC 17599 71.283   C85        C\n",
       "2            3         1       3                             Heikkinen, Miss. Laina  female 26.000      0      0  STON/O2. 3101282  7.925  None        S\n",
       "3            4         1       1       Futrelle, Mrs. Jacques Heath (Lily May Peel)  female 35.000      1      0            113803 53.100  C123        S\n",
       "4            5         0       3                           Allen, Mr. William Henry    male 35.000      0      0            373450  8.050  None        S"
      ]
     },
     "execution_count": 519,
     "metadata": {},
     "output_type": "execute_result"
    }
   ],
   "source": [
    "p_parquet.head()"
   ]
  },
  {
   "cell_type": "code",
   "execution_count": 520,
   "metadata": {
    "jupyter": {
     "outputs_hidden": false,
     "source_hidden": false
    },
    "nteract": {
     "transient": {
      "deleting": false
     }
    }
   },
   "outputs": [
    {
     "name": "stdout",
     "output_type": "stream",
     "text": [
      "distributeddeeplearningqmx\n",
      "deep-learning-challenge\n",
      "westus2\n",
      "3df1840f-dd4b-4f54-a831-e20536439b3a\n"
     ]
    }
   ],
   "source": [
    "ws = Workspace.from_config()\n",
    "print(ws.name, ws.resource_group, ws.location, ws.subscription_id, sep = '\\n')"
   ]
  },
  {
   "cell_type": "code",
   "execution_count": 521,
   "metadata": {
    "jupyter": {
     "outputs_hidden": false,
     "source_hidden": false
    },
    "nteract": {
     "transient": {
      "deleting": false
     }
    }
   },
   "outputs": [
    {
     "name": "stdout",
     "output_type": "stream",
     "text": [
      "Compute target ADBCluster already exists\n"
     ]
    }
   ],
   "source": [
    "db_compute_name = \"ADBCluster\" # Databricks compute name\n",
    "\n",
    "databricks_compute = DatabricksCompute(workspace=ws, name=db_compute_name)\n",
    "print('Compute target {} already exists'.format(db_compute_name))\n"
   ]
  },
  {
   "cell_type": "code",
   "execution_count": 522,
   "metadata": {
    "gather": {
     "logged": 1651693315206
    },
    "jupyter": {
     "outputs_hidden": false,
     "source_hidden": false
    },
    "nteract": {
     "transient": {
      "deleting": false
     }
    }
   },
   "outputs": [
    {
     "name": "stdout",
     "output_type": "stream",
     "text": [
      "Datastore generalpurposeaccount will be used\n"
     ]
    }
   ],
   "source": [
    "from azureml.pipeline.core import PipelineParameter\n",
    "from azureml.pipeline.core.pipeline_output_dataset import PipelineOutputAbstractDataset\n",
    "\n",
    "def_blob_store = Datastore(ws, \"generalpurposeaccount\")\n",
    "print('Datastore {} will be used'.format(def_blob_store.name))\n",
    "\n",
    "step_1_output = PipelineData(\"output\", datastore=def_blob_store)\n",
    "# ds_step_1_output = PipelineOutputAbstractDataset(step_1_output) # .as_dataset()\n",
    "ds_step_1_output = step_1_output.as_dataset()\n"
   ]
  },
  {
   "cell_type": "code",
   "execution_count": 523,
   "metadata": {
    "gather": {
     "logged": 1651693315846
    },
    "jupyter": {
     "outputs_hidden": false,
     "source_hidden": false
    },
    "nteract": {
     "transient": {
      "deleting": false
     }
    }
   },
   "outputs": [
    {
     "data": {
      "text/plain": [
       "1"
      ]
     },
     "execution_count": 523,
     "metadata": {},
     "output_type": "execute_result"
    }
   ],
   "source": [
    "from azureml.core import Dataset\n",
    "\n",
    "dataset = Dataset.get_by_name(ws, \"titanic_from_parquet\")\n",
    "dataset.version"
   ]
  },
  {
   "cell_type": "code",
   "execution_count": null,
   "metadata": {
    "jupyter": {
     "outputs_hidden": false,
     "source_hidden": false
    },
    "nteract": {
     "transient": {
      "deleting": false
     }
    }
   },
   "outputs": [],
   "source": [
    "print(dataset)"
   ]
  },
  {
   "cell_type": "code",
   "execution_count": 296,
   "metadata": {
    "jupyter": {
     "outputs_hidden": false,
     "source_hidden": false
    },
    "nteract": {
     "transient": {
      "deleting": false
     }
    }
   },
   "outputs": [],
   "source": [
    "cluster_name = \"cpu-cluster-4\"\n",
    "compute_target = ComputeTarget(workspace=ws, name=cluster_name)\n",
    "\n"
   ]
  },
  {
   "cell_type": "code",
   "execution_count": 503,
   "metadata": {
    "jupyter": {
     "outputs_hidden": false,
     "source_hidden": false
    },
    "nteract": {
     "transient": {
      "deleting": false
     }
    }
   },
   "outputs": [],
   "source": [
    "source_directory = \"./scripts\"\n",
    "\n",
    "databricks_script_name = \"adb_run.py\"\n",
    "aml_script_name = 'aml_run.py'\n",
    "\n",
    "feature_dataset_name = \"feature_titanic\""
   ]
  },
  {
   "cell_type": "code",
   "execution_count": 504,
   "metadata": {
    "gather": {
     "logged": 1651694246481
    },
    "jupyter": {
     "outputs_hidden": false,
     "source_hidden": false
    },
    "nteract": {
     "transient": {
      "deleting": false
     }
    }
   },
   "outputs": [],
   "source": [
    "\n",
    "dbNbStep = DatabricksStep(\n",
    "    name=\"ADBFeatureEng\",\n",
    "    outputs=[ds_step_1_output],\n",
    "    compute_target=databricks_compute,\n",
    "    existing_cluster_id=\"0511-174324-3ryh30vo\", # \"0319-164126-ptv2xehc\",\n",
    "    python_script_params=[\"--feature_set_1\", \"titanic_1\",\n",
    "                          \"--feature_set_2\", \"titanic_2\",\n",
    "                          \"--feature_set_3\", \"titanic_3\",\n",
    "                          '--output_datastore_name', def_blob_store.name,\n",
    "                          \"--output_feature_set_name\", feature_dataset_name],\n",
    "    permit_cluster_restart=True,\n",
    "    python_script_name=databricks_script_name,\n",
    "    source_directory=source_directory,\n",
    "    run_name='ADB_Feature_Eng',\n",
    "    allow_reuse=False\n",
    ")"
   ]
  },
  {
   "cell_type": "code",
   "execution_count": 505,
   "metadata": {
    "jupyter": {
     "outputs_hidden": false,
     "source_hidden": false
    },
    "nteract": {
     "transient": {
      "deleting": false
     }
    }
   },
   "outputs": [],
   "source": [
    "from azureml.core.runconfig import RunConfiguration\n",
    "from azureml.core.conda_dependencies import CondaDependencies\n",
    "\n",
    "# tf_env = Environment.get(ws, name='AzureML-lightgbm-3.2-ubuntu18.04-py37-cpu')\n",
    "# tf_env_c = tf_env.clone(\"deltalake\")\n",
    "\n",
    "tf_env_c = Environment('deltalake')\n",
    "\n",
    "conda_dep = CondaDependencies()\n",
    "\n",
    "conda_dep.add_pip_package(\"sklearn\")\n",
    "conda_dep.add_pip_package(\"deltalake\")\n",
    "conda_dep.remove_pip_package('azureml-defaults')\n",
    "conda_dep.add_pip_package('azureml-core')\n",
    "conda_dep.add_pip_package('pandas')\n",
    "\n",
    "# Adds dependencies to PythonSection of myenv\n",
    "tf_env_c.python.conda_dependencies=conda_dep\n",
    "\n",
    "tf_env_c = tf_env_c.register(workspace=ws)\n",
    "\n",
    "rcfg = RunConfiguration()\n",
    "rcfg.environment = tf_env_c"
   ]
  },
  {
   "cell_type": "code",
   "execution_count": 506,
   "metadata": {
    "jupyter": {
     "outputs_hidden": false,
     "source_hidden": false
    },
    "nteract": {
     "transient": {
      "deleting": false
     }
    }
   },
   "outputs": [],
   "source": [
    "# ds_step_1_output = step_1_output.as_dataset()\n",
    "# mnt_ds_step_1_output = ds_step_1_output.as_mount()\n",
    "\n",
    "aml_step = PythonScriptStep(script_name=aml_script_name,\n",
    "                                       name=\"AML Train\",\n",
    "                                       source_directory=source_directory,\n",
    "                                       inputs=[ds_step_1_output],\n",
    "                                       compute_target=compute_target,\n",
    "                                       arguments=['--data_folder', ds_step_1_output,\n",
    "                                                  '--featureset_name', feature_dataset_name,\n",
    "                                                  '--model_name', 'titanic_model'],\n",
    "                                       allow_reuse=False,\n",
    "                                       runconfig=rcfg)\n"
   ]
  },
  {
   "cell_type": "code",
   "execution_count": 507,
   "metadata": {
    "gather": {
     "logged": 1651694252978
    },
    "jupyter": {
     "outputs_hidden": false,
     "source_hidden": false
    },
    "nteract": {
     "transient": {
      "deleting": false
     }
    }
   },
   "outputs": [
    {
     "name": "stdout",
     "output_type": "stream",
     "text": [
      "Created step AML Train [1a7a72f2][13860bb5-d3da-4632-bf19-cdde17a53639], (This step will run and generate new outputs)Created step ADBFeatureEng [c24ba9e1][514f39a0-4824-42fd-8ca5-27526faf444c], (This step will run and generate new outputs)\n",
      "\n",
      "Submitted PipelineRun fffafab7-23dc-4063-8655-1a1ac830723c\n",
      "Link to Azure Machine Learning Portal: https://ml.azure.com/runs/fffafab7-23dc-4063-8655-1a1ac830723c?wsid=/subscriptions/3df1840f-dd4b-4f54-a831-e20536439b3a/resourcegroups/deep-learning-challenge/workspaces/distributeddeeplearningqmx&tid=72f988bf-86f1-41af-91ab-2d7cd011db47\n"
     ]
    }
   ],
   "source": [
    "steps = [aml_step]\n",
    "pipeline = Pipeline(workspace=ws, steps=steps)\n",
    "pipeline_run = Experiment(ws, 'DB_FeatureStore').submit(pipeline)\n",
    "# pipeline_run.wait_for_completion()\n"
   ]
  },
  {
   "cell_type": "code",
   "execution_count": 436,
   "metadata": {
    "jupyter": {
     "outputs_hidden": false,
     "source_hidden": false
    },
    "nteract": {
     "transient": {
      "deleting": false
     }
    }
   },
   "outputs": [
    {
     "data": {
      "text/html": [
       "<table style=\"width:100%\"><tr><th>Experiment</th><th>Id</th><th>Type</th><th>Status</th><th>Details Page</th><th>Docs Page</th></tr><tr><td>DB_FeatureStore</td><td>fbdec19e-8057-4f7e-b8d8-f4d9ee2e21b9</td><td>azureml.PipelineRun</td><td>Preparing</td><td><a href=\"https://ml.azure.com/runs/fbdec19e-8057-4f7e-b8d8-f4d9ee2e21b9?wsid=/subscriptions/3df1840f-dd4b-4f54-a831-e20536439b3a/resourcegroups/deep-learning-challenge/workspaces/distributeddeeplearningqmx&amp;tid=72f988bf-86f1-41af-91ab-2d7cd011db47\" target=\"_blank\" rel=\"noopener\">Link to Azure Machine Learning studio</a></td><td><a href=\"https://docs.microsoft.com/en-us/python/api/overview/azure/ml/intro?view=azure-ml-py\" target=\"_blank\" rel=\"noopener\">Link to Documentation</a></td></tr></table>"
      ],
      "text/plain": [
       "Run(Experiment: DB_FeatureStore,\n",
       "Id: fbdec19e-8057-4f7e-b8d8-f4d9ee2e21b9,\n",
       "Type: azureml.PipelineRun,\n",
       "Status: Preparing)"
      ]
     },
     "execution_count": 436,
     "metadata": {},
     "output_type": "execute_result"
    }
   ],
   "source": [
    "pipeline_run"
   ]
  },
  {
   "cell_type": "code",
   "execution_count": 499,
   "metadata": {
    "jupyter": {
     "outputs_hidden": false,
     "source_hidden": false
    },
    "nteract": {
     "transient": {
      "deleting": false
     }
    }
   },
   "outputs": [
    {
     "data": {
      "text/plain": [
       "Model(workspace=Workspace.create(name='distributeddeeplearningqmx', subscription_id='3df1840f-dd4b-4f54-a831-e20536439b3a', resource_group='deep-learning-challenge'), name=titanic_model, id=titanic_model:14, version=14, tags={'run_id': '47a6dcba-d2ec-47f2-8b78-bc48a05d6393'}, properties={})"
      ]
     },
     "execution_count": 499,
     "metadata": {},
     "output_type": "execute_result"
    }
   ],
   "source": [
    "from azureml.core import Model\n",
    "\n",
    "model = Model(ws, name='titanic_model')\n",
    "model"
   ]
  },
  {
   "cell_type": "code",
   "execution_count": 500,
   "metadata": {
    "jupyter": {
     "outputs_hidden": false,
     "source_hidden": false
    },
    "nteract": {
     "transient": {
      "deleting": false
     }
    }
   },
   "outputs": [],
   "source": [
    "model_datasets = model.datasets\n",
    "input_dataset = model_datasets['features'][0]"
   ]
  },
  {
   "cell_type": "code",
   "execution_count": 502,
   "metadata": {
    "jupyter": {
     "outputs_hidden": false,
     "source_hidden": false
    },
    "nteract": {
     "transient": {
      "deleting": false
     }
    }
   },
   "outputs": [
    {
     "data": {
      "text/plain": [
       "{'input_datasets': \"['titanic_1: 1', 'titanic_2: 1', 'titanic_3: 1']\",\n",
       " 'regisitered_at': '2022-05-11 20:20:23',\n",
       " 'delta_feature_name': 'features.feature_titanic',\n",
       " 'run_id': '47a6dcba-d2ec-47f2-8b78-bc48a05d6393',\n",
       " 'dtypes': \"{'PassengerId': 'int64', 'Survived': 'int64', 'Pclass': 'int64', 'Sex': 'int64', 'Age': 'float64', 'SibSp': 'int64', 'Parch': 'int64', 'Fare': 'float64', 'id': 'object'}\"}"
      ]
     },
     "execution_count": 502,
     "metadata": {},
     "output_type": "execute_result"
    }
   ],
   "source": [
    "input_dataset.tags"
   ]
  },
  {
   "cell_type": "code",
   "execution_count": null,
   "metadata": {
    "jupyter": {
     "outputs_hidden": false,
     "source_hidden": false
    },
    "nteract": {
     "transient": {
      "deleting": false
     }
    }
   },
   "outputs": [],
   "source": [
    "pdf = input_dataset.to_pandas_dataframe()"
   ]
  },
  {
   "cell_type": "code",
   "execution_count": null,
   "metadata": {
    "jupyter": {
     "outputs_hidden": false,
     "source_hidden": false
    },
    "nteract": {
     "transient": {
      "deleting": false
     }
    }
   },
   "outputs": [],
   "source": [
    "Dataset.get_by_name"
   ]
  }
 ],
 "metadata": {
  "kernel_info": {
   "name": "python38-azureml"
  },
  "kernelspec": {
   "display_name": "Python 3.8 - AzureML",
   "language": "python",
   "name": "python38-azureml"
  },
  "language_info": {
   "codemirror_mode": {
    "name": "ipython",
    "version": 3
   },
   "file_extension": ".py",
   "mimetype": "text/x-python",
   "name": "python",
   "nbconvert_exporter": "python",
   "pygments_lexer": "ipython3",
   "version": "3.8.5"
  },
  "nteract": {
   "version": "nteract-front-end@1.0.0"
  }
 },
 "nbformat": 4,
 "nbformat_minor": 1
}
